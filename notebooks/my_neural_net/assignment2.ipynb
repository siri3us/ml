{
 "cells": [
  {
   "cell_type": "code",
   "execution_count": 1,
   "metadata": {
    "scrolled": true
   },
   "outputs": [
    {
     "data": {
      "application/javascript": [
       "IPython.notebook.set_autosave_interval(30000)"
      ]
     },
     "metadata": {},
     "output_type": "display_data"
    },
    {
     "name": "stdout",
     "output_type": "stream",
     "text": [
      "Autosaving every 30 seconds\n"
     ]
    }
   ],
   "source": [
    "# Autosave each 30s\n",
    "%autosave 30\n",
    "\n",
    "import numpy as np\n",
    "import pandas as pd\n",
    "import pickle as pkl\n",
    "import tensorflow as tf\n",
    "import os\n",
    "import timeit\n",
    "import copy\n",
    "import gc\n",
    "import math\n",
    "import time\n",
    "import scipy\n",
    "\n",
    "from scipy import stats\n",
    "from scipy.special import erfc\n",
    "from scipy.signal import fftconvolve\n",
    "from itertools import product, chain, combinations\n",
    "from collections import defaultdict, Counter, OrderedDict\n",
    "from tqdm import tqdm\n",
    "\n",
    "#sklearn\n",
    "from sklearn.utils import resample\n",
    "from sklearn.model_selection import StratifiedKFold, train_test_split\n",
    "from sklearn.feature_extraction.text import CountVectorizer\n",
    "\n",
    "#skimage\n",
    "import skimage\n",
    "from skimage import io, transform, color\n",
    "from skimage.transform import resize\n",
    "\n",
    "#IPython imports\n",
    "from IPython.display import Image, display, clear_output\n",
    "from IPython.core.display import HTML\n",
    "from IPython.display import FileLink, FileLinks\n",
    "\n",
    "#matplotlib\n",
    "import matplotlib\n",
    "import matplotlib as mp\n",
    "import matplotlib.pyplot as plt\n",
    "from mpl_toolkits.mplot3d import Axes3D\n",
    "from matplotlib.collections import PolyCollection\n",
    "from matplotlib.colors import colorConverter\n",
    "%matplotlib inline\n",
    "\n",
    "#https://matplotlib.org/users/customizing.html\n",
    "matplotlib.rcParams['legend.markerscale'] = 1.5     # the relative size of legend markers vs. original\n",
    "matplotlib.rcParams['legend.handletextpad'] = 0.01\n",
    "matplotlib.rcParams['legend.labelspacing'] = 0.4    # the vertical space between the legend entries in fraction of fontsize\n",
    "matplotlib.rcParams['legend.borderpad'] = 0.5       # border whitespace in fontsize units\n",
    "matplotlib.rcParams['font.size'] = 14\n",
    "matplotlib.rcParams['font.family'] = 'serif'\n",
    "matplotlib.rcParams['font.serif'] = 'Times New Roman'\n",
    "matplotlib.rcParams['axes.labelsize'] = 20\n",
    "matplotlib.rcParams['axes.titlesize'] = 20\n",
    "# Configuring latex fonts\n",
    "matplotlib.rc('font', **{'family':'serif'})\n",
    "matplotlib.rc('text', usetex=True)\n",
    "matplotlib.rc('text.latex', unicode=True)\n",
    "matplotlib.rc('text.latex', preamble=r'\\usepackage[utf8]{inputenc}')\n",
    "matplotlib.rc('text.latex', preamble=r'\\usepackage[english]{babel}')\n",
    "matplotlib.rc('text.latex', preamble=r'\\usepackage{amsmath}')\n",
    "\n",
    "%load_ext autoreload\n",
    "%autoreload 1\n",
    "# Below comes the list of modules which is automatically reimported\n",
    "# %aimport cs231n.classifiers.k_nearest_neighbor"
   ]
  },
  {
   "cell_type": "code",
   "execution_count": 2,
   "metadata": {},
   "outputs": [],
   "source": [
    "import sys\n",
    "library_path = '../../../'\n",
    "if library_path not in sys.path:\n",
    "    sys.path.append(library_path)\n",
    "    \n",
    "CIFAR10_DIR = '../../../datasets/CIFAR10'\n",
    "\n",
    "from ml.utils import get_CIFAR10_data, load_CIFAR10\n",
    "from ml.generators import BatchGenerator\n",
    "from ml.utils.gradient_check import eval_numerical_gradient, eval_numerical_gradient_array\n",
    "from ml.neural_network.cs231n.second.layers import *\n",
    "from ml.neural_network.cs231n.second.optimizers import *\n",
    "from ml.neural_network.cs231n.second.solver import Solver\n",
    "from ml.neural_network.cs231n.second.fcn import FullyConnectedNet\n",
    "from ml.neural_network.cs231n.second.two_layer_net import TwoLayerNet\n",
    "\n",
    "from ml.neural_network.cs231n.second.conv_layers import *\n",
    "from ml.neural_network.cs231n.second.conv_layers_fast import *\n",
    "\n",
    "#from ml.linear_model import svm_loss_naive, svm_loss_vectorized, softmax_loss_naive, softmax_loss_vectorized\n",
    "#from ml.neural_network import Sequential, NetworkTrainer\n",
    "#from ml.neural_network.layers import Dense, Dropout, SoftMax\n",
    "#from ml.neural_network.nonlinearities import ReLU, LeakyReLU, ELU, SoftPlus\n",
    "#from ml.neural_network.criterions import MulticlassLogLoss\n",
    "\n",
    "def rel_error(x, y):\n",
    "    \"\"\" returns relative error \"\"\"\n",
    "    return np.max(np.abs(x - y) / (np.maximum(1e-8, np.abs(x) + np.abs(y))))"
   ]
  },
  {
   "cell_type": "markdown",
   "metadata": {},
   "source": [
    "<a id='toc'></a>\n",
    "# Table of Contents"
   ]
  },
  {
   "cell_type": "markdown",
   "metadata": {},
   "source": [
    "* [2. Convolutional Networks](#cnn)\n",
    "    * [2.1 Convolution](#cnn_conv)\n",
    "        * [2.1.1 Convolution: Naive forward pass](#cnn_conv_forw)\n",
    "        * [2.1.2 Aside: Image processing via convolutions](#cnn_conv_aside)\n",
    "        * [2.1.3 Convolution: Naive backward pass](#cnn_conv_back)\n",
    "    * [2.2 Max pooling](#max_pooling)\n",
    "        * [2.2.1 Max pooling: Naive forward](#cnn_max_pooling_forw)\n",
    "        * [2.2.2 Max pooling: Naive backward](#cnn_max_pooling_back)\n",
    "    * [2.3 Fast layers](#cnn_fast)\n",
    "    * [2.4 Convolutional \"sandwich\" layers](#cnn_sand)\n",
    "    * [2.5 Spatial Batch Normalization](#cnn_spatial)\n",
    "        * [2.5.1 Spatial batch normalization: forward](#cnn_spatial_forw)\n",
    "        * [2.5.2 Spatial batch normalization: backward](#cnn_spatial_back)\n",
    "    * [2.6 Three Layer ConvNet](#cnn_three)\n",
    "        * [2.6.1 Sanity check loss](#cnn_three_sanity)\n",
    "        * [2.6.2 Gradient check](#cnn_three_grad)\n",
    "        * [2.6.3 Overfit small data](#cnn_three_overfit)\n",
    "        * [2.6.4 Train net](#cnn_three_train)\n",
    "        * [2.6.5 Visualize filters](#cnn_three_visualize)"
   ]
  },
  {
   "cell_type": "markdown",
   "metadata": {},
   "source": []
  }
 ],
 "metadata": {
  "anaconda-cloud": {},
  "kernelspec": {
   "display_name": "Python [conda env:tensorflow]",
   "language": "python",
   "name": "conda-env-tensorflow-py"
  },
  "language_info": {
   "codemirror_mode": {
    "name": "ipython",
    "version": 3
   },
   "file_extension": ".py",
   "mimetype": "text/x-python",
   "name": "python",
   "nbconvert_exporter": "python",
   "pygments_lexer": "ipython3",
   "version": "3.4.5"
  }
 },
 "nbformat": 4,
 "nbformat_minor": 1
}
